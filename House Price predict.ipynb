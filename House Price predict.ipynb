{
 "cells": [
  {
   "cell_type": "code",
   "execution_count": null,
   "metadata": {
    "colab": {
     "base_uri": "https://localhost:8080/",
     "height": 334
    },
    "id": "7hMOfhUaMzye",
    "outputId": "49c952ac-f57b-446c-ac12-be20405f478a"
   },
   "outputs": [],
   "source": [
    "# Import libraries\n",
    "import pandas as pd\n",
    "import numpy as np\n",
    "from sklearn.model_selection import train_test_split\n",
    "from sklearn.metrics import mean_squared_error, r2_score\n",
    "from sklearn.ensemble import RandomForestRegressor\n",
    "import xgboost as xgb\n",
    "from sklearn.ensemble import VotingRegressor\n",
    "\n",
    "# Load the dataset\n",
    "file_path = '/content/_All_Cities_Cleaned.csv'  # Update this with the correct path if needed\n",
    "df = pd.read_csv(file_path)\n",
    "\n",
    "# Display dataset information\n",
    "print(\"Dataset loaded successfully!\")\n",
    "print(\"Shape:\", df.shape)\n",
    "print(\"Columns:\", df.columns)\n",
    "df.head()\n"
   ]
  },
  {
   "cell_type": "code",
   "execution_count": null,
   "metadata": {
    "colab": {
     "base_uri": "https://localhost:8080/"
    },
    "id": "Q4KTh8mxNDhc",
    "outputId": "016d69d9-2cb5-4d9d-e58f-d30b9122f266"
   },
   "outputs": [],
   "source": [
    "# Handle missing values (if any)\n",
    "df.fillna(0, inplace=True)\n",
    "\n",
    "# Feature Engineering\n",
    "df['price_per_sqft'] = df['price'] / df['area']  # Price per square foot\n",
    "df['log_area'] = np.log1p(df['area'])           # Log-transform area\n",
    "df['log_price'] = np.log1p(df['price'])         # Log-transform price\n",
    "\n",
    "# Features and target\n",
    "X = df[['area', 'bedroom', 'bathroom', 'price_per_sqft', 'log_area', 'layout_type', 'property_type', 'furnish_type', 'city']]\n",
    "y = df['log_price']  # Using log-transformed price as the target\n",
    "\n",
    "# Train-test split\n",
    "X_train, X_test, y_train, y_test = train_test_split(X, y, test_size=0.2, random_state=42)\n",
    "\n",
    "print(\"Data split into training and testing sets successfully!\")\n"
   ]
  },
  {
   "cell_type": "code",
   "execution_count": null,
   "metadata": {
    "colab": {
     "base_uri": "https://localhost:8080/"
    },
    "id": "eTEo6VefNGcU",
    "outputId": "ef432355-e113-4bb1-e8c4-0653521dfcbe"
   },
   "outputs": [],
   "source": [
    "from sklearn.preprocessing import StandardScaler, OneHotEncoder\n",
    "from sklearn.compose import ColumnTransformer\n",
    "from sklearn.pipeline import Pipeline\n",
    "from sklearn.ensemble import VotingRegressor\n",
    "\n",
    "# Define numerical and categorical features\n",
    "num_features = ['area', 'bedroom', 'bathroom', 'price_per_sqft', 'log_area']  # Example numerical columns\n",
    "cat_features = ['layout_type', 'property_type', 'furnish_type', 'city']       # Example categorical columns\n",
    "\n",
    "# Preprocessing pipeline\n",
    "preprocessor = ColumnTransformer(\n",
    "    transformers=[\n",
    "        ('num', StandardScaler(), num_features),  # Scale numerical features\n",
    "        ('cat', OneHotEncoder(drop='first'), cat_features)  # Encode categorical features\n",
    "    ]\n",
    ")\n",
    "\n",
    "# Verify preprocessing works on data\n",
    "X_train_processed = preprocessor.fit_transform(X_train)\n",
    "print(\"Preprocessed training data shape:\", X_train_processed.shape)\n"
   ]
  },
  {
   "cell_type": "code",
   "execution_count": null,
   "metadata": {
    "colab": {
     "base_uri": "https://localhost:8080/"
    },
    "id": "bdaOSP2rNI_t",
    "outputId": "0b7e7c78-36ec-4f5d-b938-9da22c7cfe1c"
   },
   "outputs": [],
   "source": [
    "from sklearn.model_selection import GridSearchCV\n",
    "\n",
    "# Hyperparameter grid\n",
    "param_grid_rf = {\n",
    "    'n_estimators': [100, 200, 300],\n",
    "    'max_depth': [10, 20, None],\n",
    "    'min_samples_split': [2, 5, 10],\n",
    "    'min_samples_leaf': [1, 2, 4]\n",
    "}\n",
    "\n",
    "# Grid search\n",
    "grid_search_rf = GridSearchCV(\n",
    "    estimator=RandomForestRegressor(random_state=42),\n",
    "    param_grid=param_grid_rf,\n",
    "    scoring='neg_mean_squared_error',\n",
    "    cv=3,\n",
    "    verbose=2\n",
    ")\n",
    "\n",
    "# Pipeline\n",
    "rf_model = Pipeline(steps=[('preprocessor', preprocessor), ('model', grid_search_rf)])\n",
    "rf_model.fit(X_train, y_train)\n",
    "\n",
    "# Best parameters\n",
    "best_rf_params = grid_search_rf.best_params_\n",
    "print(\"Best Random Forest Parameters:\", best_rf_params)\n"
   ]
  },
  {
   "cell_type": "code",
   "execution_count": null,
   "metadata": {
    "colab": {
     "base_uri": "https://localhost:8080/"
    },
    "id": "MDvKWphwNM6d",
    "outputId": "69470cc4-3da6-4627-ce2a-47e2d01a9c13"
   },
   "outputs": [],
   "source": [
    "# Hyperparameter grid\n",
    "param_grid_xgb = {\n",
    "    'n_estimators': [100, 200, 300],\n",
    "    'learning_rate': [0.01, 0.1, 0.3],\n",
    "    'max_depth': [3, 5, 7],\n",
    "    'subsample': [0.8, 1.0],\n",
    "    'colsample_bytree': [0.8, 1.0]\n",
    "}\n",
    "\n",
    "# Grid search\n",
    "grid_search_xgb = GridSearchCV(\n",
    "    estimator=xgb.XGBRegressor(random_state=42),\n",
    "    param_grid=param_grid_xgb,\n",
    "    scoring='neg_mean_squared_error',\n",
    "    cv=3,\n",
    "    verbose=2\n",
    ")\n",
    "\n",
    "# Pipeline\n",
    "xgb_model = Pipeline(steps=[('preprocessor', preprocessor), ('model', grid_search_xgb)])\n",
    "xgb_model.fit(X_train, y_train)\n",
    "\n",
    "# Best parameters\n",
    "best_xgb_params = grid_search_xgb.best_params_\n",
    "print(\"Best XGBoost Parameters:\", best_xgb_params)\n"
   ]
  },
  {
   "cell_type": "code",
   "execution_count": null,
   "metadata": {
    "colab": {
     "base_uri": "https://localhost:8080/"
    },
    "id": "hbsLRMV4NP2S",
    "outputId": "203b4e93-3009-4126-e9f5-e11645e40151"
   },
   "outputs": [],
   "source": [
    "# Define the ensemble model with preprocessing\n",
    "ensemble_pipeline = Pipeline(steps=[\n",
    "    ('preprocessor', preprocessor),  # Add preprocessing\n",
    "    ('ensemble', VotingRegressor(\n",
    "        estimators=[\n",
    "            ('random_forest', grid_search_rf.best_estimator_),\n",
    "            ('xgboost', grid_search_xgb.best_estimator_)\n",
    "        ]\n",
    "    ))\n",
    "])\n",
    "\n",
    "# Train the ensemble model\n",
    "ensemble_pipeline.fit(X_train, y_train)\n",
    "\n",
    "print(\"Ensemble model trained successfully!\")"
   ]
  },
  {
   "cell_type": "code",
   "execution_count": null,
   "metadata": {
    "colab": {
     "base_uri": "https://localhost:8080/"
    },
    "id": "okAg8DuFNQlG",
    "outputId": "a788d207-2cc4-409a-8181-0b21afa8a226"
   },
   "outputs": [],
   "source": [
    "# Train the ensemble pipeline\n",
    "ensemble_pipeline.fit(X_train, y_train)\n",
    "print(\"Ensemble pipeline trained successfully!\")\n",
    "\n",
    "# Define the evaluation function\n",
    "def evaluate_model(model, X_test, y_test):\n",
    "    y_pred = model.predict(X_test)\n",
    "    rmse = mean_squared_error(y_test, y_pred, squared=False)\n",
    "    r2 = r2_score(y_test, y_pred)\n",
    "\n",
    "    print(\"Model Evaluation Metrics:\")\n",
    "    print(f\"Root Mean Squared Error (RMSE): ₹{rmse:.2f}\")\n",
    "    print(f\"R² Score: {r2:.4f}\")\n",
    "\n",
    "# Evaluate the trained pipeline\n",
    "evaluate_model(ensemble_pipeline, X_test, y_test)\n"
   ]
  },
  {
   "cell_type": "code",
   "execution_count": null,
   "metadata": {
    "id": "fZnmptm5NS6X"
   },
   "outputs": [],
   "source": []
  }
 ],
 "metadata": {
  "colab": {
   "provenance": []
  },
  "kernelspec": {
   "display_name": "Python 3",
   "name": "python3"
  },
  "language_info": {
   "name": "python"
  }
 },
 "nbformat": 4,
 "nbformat_minor": 0
}
